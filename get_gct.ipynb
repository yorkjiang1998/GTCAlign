{
 "cells": [
  {
   "cell_type": "code",
   "execution_count": 1,
   "id": "646c54ad",
   "metadata": {},
   "outputs": [],
   "source": [
    "import networkx as nx\n",
    "import pandas\n",
    "import torch\n",
    "import numpy as np"
   ]
  },
  {
   "cell_type": "code",
   "execution_count": 2,
   "id": "5ee33793",
   "metadata": {},
   "outputs": [],
   "source": [
    "def get_All(dataset_name, st):\n",
    "    X = np.genfromtxt('./data/' + dataset_name + '/' + dataset_name + '_'+ st + '_edge.txt',dtype=int)\n",
    "    G = nx.from_edgelist(X)\n",
    "\n",
    "    degree_centrality = nx.degree_centrality(G)\n",
    "    eigenvector_centrality = nx.eigenvector_centrality(G)\n",
    "    betweenness = nx.betweenness_centrality(G)\n",
    "    closeness_centrality = nx.closeness_centrality(G)\n",
    "    topo = []\n",
    "    topo.append(degree_centrality)\n",
    "    topo.append(eigenvector_centrality)\n",
    "    topo.append(betweenness)\n",
    "    topo.append(closeness_centrality)\n",
    "    return topo\n",
    "\n",
    "if __name__ == '__main__':\n",
    "    topo_s = get_All('douban', 's')\n",
    "    topo_t = get_All('douban', 't')\n",
    "\n",
    "    # np.save('./douban_topo.npy', topo_s)"
   ]
  },
  {
   "cell_type": "code",
   "execution_count": null,
   "id": "921df45b",
   "metadata": {},
   "outputs": [],
   "source": []
  }
 ],
 "metadata": {
  "kernelspec": {
   "display_name": "alignment",
   "language": "python",
   "name": "python3"
  },
  "language_info": {
   "codemirror_mode": {
    "name": "ipython",
    "version": 3
   },
   "file_extension": ".py",
   "mimetype": "text/x-python",
   "name": "python",
   "nbconvert_exporter": "python",
   "pygments_lexer": "ipython3",
   "version": "3.10.13"
  }
 },
 "nbformat": 4,
 "nbformat_minor": 5
}
